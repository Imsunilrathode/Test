{
 "cells": [
  {
   "cell_type": "markdown",
   "metadata": {},
   "source": [
    "The Affordable Care Act is a huge step forward for people who were previously uninsured, but what could happen if someone who is covered by an ACA plan gets cancer? Most likely they will have to get some sort of chemotherapy. That’s called an “Infusion Therapy” in medical speak. We wanted to take a look at how insurance companies pay for that. "
   ]
  },
  {
   "cell_type": "markdown",
   "metadata": {},
   "source": [
    "Lets have a look at dataset !!!!!!!!!!!!!"
   ]
  },
  {
   "cell_type": "code",
   "execution_count": 2,
   "metadata": {
    "collapsed": false
   },
   "outputs": [
    {
     "data": {
      "text/plain": [
       "(5048408, 32)"
      ]
     },
     "execution_count": 2,
     "metadata": {},
     "output_type": "execute_result"
    }
   ],
   "source": [
    "import numpy as np \n",
    "import pandas as pd \n",
    "import seaborn as sns\n",
    "from  matplotlib import pyplot\n",
    "\n",
    "\n",
    "csv_chunks = pd.read_csv(\"D:\\health-insurance-marketplace-release-2016-01-20-15-52-37\\health-insurance-marketplace\\BenefitsCostSharing.csv\",iterator=True,chunksize = 1000)\n",
    "rates = pd.concat(chunk for chunk in csv_chunks)\n",
    "rates.shape"
   ]
  },
  {
   "cell_type": "markdown",
   "metadata": {},
   "source": [
    "BenefitName column values"
   ]
  },
  {
   "cell_type": "code",
   "execution_count": 7,
   "metadata": {
    "collapsed": false
   },
   "outputs": [
    {
     "data": {
      "text/plain": [
       "Orthodontia - Adult                                                                                         77377\n",
       "Dental Check-Up for Children                                                                                77353\n",
       "Major Dental Care - Adult                                                                                   77353\n",
       "Basic Dental Care - Child                                                                                   77353\n",
       "Basic Dental Care - Adult                                                                                   77353\n",
       "Accidental Dental                                                                                           77353\n",
       "Routine Dental Services (Adult)                                                                             77353\n",
       "Major Dental Care - Child                                                                                   77353\n",
       "Orthodontia - Child                                                                                         77345\n",
       "Treatment for Temporomandibular Joint Disorders                                                             65724\n",
       "Prosthetic Devices                                                                                          65704\n",
       "Allergy Testing                                                                                             65704\n",
       "Long-Term/Custodial Nursing Home Care                                                                       65704\n",
       "Substance Abuse Disorder Inpatient Services                                                                 65704\n",
       "Laboratory Outpatient and Professional Services                                                             65704\n",
       "Skilled Nursing Facility                                                                                    65704\n",
       "Routine Eye Exam for Children                                                                               65704\n",
       "Radiation                                                                                                   65704\n",
       "Non-Emergency Care When Traveling Outside the U.S.                                                          65704\n",
       "Urgent Care Centers or Facilities                                                                           65704\n",
       "Private-Duty Nursing                                                                                        65704\n",
       "Substance Abuse Disorder Outpatient Services                                                                65704\n",
       "Rehabilitative Occupational and Rehabilitative Physical Therapy                                             65704\n",
       "Delivery and All Inpatient Services for Maternity Care                                                      65704\n",
       "Outpatient Surgery Physician/Surgical Services                                                              65704\n",
       "Bariatric Surgery                                                                                           65704\n",
       "Weight Loss Programs                                                                                        65704\n",
       "Durable Medical Equipment                                                                                   65704\n",
       "Hearing Aids                                                                                                65704\n",
       "Reconstructive Surgery                                                                                      65704\n",
       "                                                                                                            ...  \n",
       "Habilitative Speech Therapy (Non-Autism Related                                                                 2\n",
       "Imaging (CT, PET Scans, MRIs) Center/ Office                                                                    2\n",
       "Cardiac and Pulmonary Rehabilitiation                                                                           2\n",
       "Periraducular Surgical Procedures                                                                               2\n",
       "Non-medically necessary orthodontia                                                                             2\n",
       "Hospice Outpatient                                                                                              2\n",
       "Non-Medically Necessary Orthodontia- Child                                                                      2\n",
       "Posterior Composite Fillings - Adults                                                                           2\n",
       "Immediate Dentiures                                                                                             2\n",
       "Accidental Dental-Adult                                                                                         2\n",
       "Tisssue Conditioning                                                                                            2\n",
       "Pulmonary Rehabilatative Services                                                                               2\n",
       "Vision Hardware for Children > $300                                                                             2\n",
       "Habilitation Services - PT/OT/ST and ABA (combined) for Autism Spectrum Disorder - through 18 yrs of age        2\n",
       "Prophylaxis (cleanings) - Child                                                                                 2\n",
       "Non-Medically necessary Orthodontia                                                                             2\n",
       "Orthodontia for Cleft Palate or Cleft Lip only - Child                                                          2\n",
       "Peridontal Maintenance                                                                                          2\n",
       "Post and Core Build -Up                                                                                         2\n",
       "Non-Medically Necessary Orthondontia - Child                                                                    2\n",
       "Cardiac &$135:$135Pulmonary Rehabilitation                                                                      2\n",
       "Intial Placement of Bridges and Dentures                                                                        2\n",
       "Bloos and Blood Services                                                                                        2\n",
       "Dental Anethesia                                                                                                2\n",
       "Removal of Fxed Space Maintainers                                                                               2\n",
       "Implant Adult                                                                                                   1\n",
       "root Canal Therapy and Retreatment                                                                              1\n",
       "Vital pulpotomy                                                                                                 1\n",
       "Prefab Resin Crown                                                                                              1\n",
       "Posterior Composites - Child                                                                                    1\n",
       "dtype: int64"
      ]
     },
     "execution_count": 7,
     "metadata": {},
     "output_type": "execute_result"
    }
   ],
   "source": [
    "fields = ['BenefitName']\n",
    "d = []\n",
    "csv_chunks = pd.read_csv(\"D:\\health-insurance-marketplace-release-2016-01-20-15-52-37\\health-insurance-marketplace\\BenefitsCostSharing.csv\",iterator=True,chunksize = 1000,usecols = fields)\n",
    "rates = pd.concat(chunk for chunk in csv_chunks)\n",
    "rates.shape\n",
    "pd.value_counts(rates['BenefitName'].values, sort=True)\n"
   ]
  },
  {
   "cell_type": "markdown",
   "metadata": {},
   "source": [
    "So, what we specifically looking for is the line item about “Infusion Therapy”, I’m going to subset my huge dataset to just look at those lines.\n",
    "\n"
   ]
  },
  {
   "cell_type": "code",
   "execution_count": 149,
   "metadata": {
    "collapsed": false
   },
   "outputs": [
    {
     "data": {
      "text/html": [
       "<div>\n",
       "<table border=\"1\" class=\"dataframe\">\n",
       "  <thead>\n",
       "    <tr style=\"text-align: right;\">\n",
       "      <th></th>\n",
       "      <th>BenefitName</th>\n",
       "      <th>BusinessYear</th>\n",
       "      <th>CoinsInnTier1</th>\n",
       "      <th>CoinsInnTier2</th>\n",
       "      <th>CoinsOutofNet</th>\n",
       "      <th>CopayInnTier1</th>\n",
       "      <th>CopayInnTier2</th>\n",
       "      <th>CopayOutofNet</th>\n",
       "      <th>EHBVarReason</th>\n",
       "      <th>Exclusions</th>\n",
       "      <th>...</th>\n",
       "      <th>LimitUnit</th>\n",
       "      <th>MinimumStay</th>\n",
       "      <th>PlanId</th>\n",
       "      <th>QuantLimitOnSvc</th>\n",
       "      <th>RowNumber</th>\n",
       "      <th>SourceName</th>\n",
       "      <th>StandardComponentId</th>\n",
       "      <th>StateCode</th>\n",
       "      <th>StateCode2</th>\n",
       "      <th>VersionNum</th>\n",
       "    </tr>\n",
       "  </thead>\n",
       "  <tbody>\n",
       "    <tr>\n",
       "      <th>306</th>\n",
       "      <td>Infusion Therapy</td>\n",
       "      <td>2014</td>\n",
       "      <td>No Charge</td>\n",
       "      <td>NaN</td>\n",
       "      <td>50%</td>\n",
       "      <td>No Charge</td>\n",
       "      <td>NaN</td>\n",
       "      <td>No Charge</td>\n",
       "      <td>Additional EHB Benefit</td>\n",
       "      <td>NaN</td>\n",
       "      <td>...</td>\n",
       "      <td>NaN</td>\n",
       "      <td>NaN</td>\n",
       "      <td>73836AK0620001-01</td>\n",
       "      <td>NaN</td>\n",
       "      <td>125</td>\n",
       "      <td>HIOS</td>\n",
       "      <td>73836AK0620001</td>\n",
       "      <td>AK</td>\n",
       "      <td>AK</td>\n",
       "      <td>6</td>\n",
       "    </tr>\n",
       "    <tr>\n",
       "      <th>368</th>\n",
       "      <td>Infusion Therapy</td>\n",
       "      <td>2014</td>\n",
       "      <td>No Charge</td>\n",
       "      <td>NaN</td>\n",
       "      <td>50%</td>\n",
       "      <td>No Charge</td>\n",
       "      <td>NaN</td>\n",
       "      <td>No Charge</td>\n",
       "      <td>Additional EHB Benefit</td>\n",
       "      <td>NaN</td>\n",
       "      <td>...</td>\n",
       "      <td>NaN</td>\n",
       "      <td>NaN</td>\n",
       "      <td>73836AK0620002-01</td>\n",
       "      <td>NaN</td>\n",
       "      <td>125</td>\n",
       "      <td>HIOS</td>\n",
       "      <td>73836AK0620002</td>\n",
       "      <td>AK</td>\n",
       "      <td>AK</td>\n",
       "      <td>6</td>\n",
       "    </tr>\n",
       "    <tr>\n",
       "      <th>440</th>\n",
       "      <td>Infusion Therapy</td>\n",
       "      <td>2014</td>\n",
       "      <td>15%</td>\n",
       "      <td>NaN</td>\n",
       "      <td>50%</td>\n",
       "      <td>No Charge</td>\n",
       "      <td>NaN</td>\n",
       "      <td>No Charge</td>\n",
       "      <td>Additional EHB Benefit</td>\n",
       "      <td>NaN</td>\n",
       "      <td>...</td>\n",
       "      <td>NaN</td>\n",
       "      <td>NaN</td>\n",
       "      <td>73836AK0630001-00</td>\n",
       "      <td>NaN</td>\n",
       "      <td>125</td>\n",
       "      <td>HIOS</td>\n",
       "      <td>73836AK0630001</td>\n",
       "      <td>AK</td>\n",
       "      <td>AK</td>\n",
       "      <td>6</td>\n",
       "    </tr>\n",
       "    <tr>\n",
       "      <th>513</th>\n",
       "      <td>Infusion Therapy</td>\n",
       "      <td>2014</td>\n",
       "      <td>15%</td>\n",
       "      <td>NaN</td>\n",
       "      <td>50%</td>\n",
       "      <td>No Charge</td>\n",
       "      <td>NaN</td>\n",
       "      <td>No Charge</td>\n",
       "      <td>Additional EHB Benefit</td>\n",
       "      <td>NaN</td>\n",
       "      <td>...</td>\n",
       "      <td>NaN</td>\n",
       "      <td>NaN</td>\n",
       "      <td>73836AK0630001-01</td>\n",
       "      <td>NaN</td>\n",
       "      <td>125</td>\n",
       "      <td>HIOS</td>\n",
       "      <td>73836AK0630001</td>\n",
       "      <td>AK</td>\n",
       "      <td>AK</td>\n",
       "      <td>6</td>\n",
       "    </tr>\n",
       "    <tr>\n",
       "      <th>586</th>\n",
       "      <td>Infusion Therapy</td>\n",
       "      <td>2014</td>\n",
       "      <td>0%</td>\n",
       "      <td>NaN</td>\n",
       "      <td>0%</td>\n",
       "      <td>$0</td>\n",
       "      <td>NaN</td>\n",
       "      <td>$0</td>\n",
       "      <td>Additional EHB Benefit</td>\n",
       "      <td>NaN</td>\n",
       "      <td>...</td>\n",
       "      <td>NaN</td>\n",
       "      <td>NaN</td>\n",
       "      <td>73836AK0630001-02</td>\n",
       "      <td>NaN</td>\n",
       "      <td>125</td>\n",
       "      <td>HIOS</td>\n",
       "      <td>73836AK0630001</td>\n",
       "      <td>AK</td>\n",
       "      <td>AK</td>\n",
       "      <td>6</td>\n",
       "    </tr>\n",
       "  </tbody>\n",
       "</table>\n",
       "<p>5 rows × 32 columns</p>\n",
       "</div>"
      ],
      "text/plain": [
       "          BenefitName  BusinessYear CoinsInnTier1 CoinsInnTier2 CoinsOutofNet  \\\n",
       "306  Infusion Therapy          2014     No Charge           NaN           50%   \n",
       "368  Infusion Therapy          2014     No Charge           NaN           50%   \n",
       "440  Infusion Therapy          2014           15%           NaN           50%   \n",
       "513  Infusion Therapy          2014           15%           NaN           50%   \n",
       "586  Infusion Therapy          2014            0%           NaN            0%   \n",
       "\n",
       "    CopayInnTier1 CopayInnTier2 CopayOutofNet            EHBVarReason  \\\n",
       "306     No Charge           NaN     No Charge  Additional EHB Benefit   \n",
       "368     No Charge           NaN     No Charge  Additional EHB Benefit   \n",
       "440     No Charge           NaN     No Charge  Additional EHB Benefit   \n",
       "513     No Charge           NaN     No Charge  Additional EHB Benefit   \n",
       "586            $0           NaN            $0  Additional EHB Benefit   \n",
       "\n",
       "    Exclusions     ...     LimitUnit MinimumStay             PlanId  \\\n",
       "306        NaN     ...           NaN         NaN  73836AK0620001-01   \n",
       "368        NaN     ...           NaN         NaN  73836AK0620002-01   \n",
       "440        NaN     ...           NaN         NaN  73836AK0630001-00   \n",
       "513        NaN     ...           NaN         NaN  73836AK0630001-01   \n",
       "586        NaN     ...           NaN         NaN  73836AK0630001-02   \n",
       "\n",
       "    QuantLimitOnSvc RowNumber SourceName StandardComponentId StateCode  \\\n",
       "306             NaN       125       HIOS      73836AK0620001        AK   \n",
       "368             NaN       125       HIOS      73836AK0620002        AK   \n",
       "440             NaN       125       HIOS      73836AK0630001        AK   \n",
       "513             NaN       125       HIOS      73836AK0630001        AK   \n",
       "586             NaN       125       HIOS      73836AK0630001        AK   \n",
       "\n",
       "    StateCode2  VersionNum  \n",
       "306         AK           6  \n",
       "368         AK           6  \n",
       "440         AK           6  \n",
       "513         AK           6  \n",
       "586         AK           6  \n",
       "\n",
       "[5 rows x 32 columns]"
      ]
     },
     "execution_count": 149,
     "metadata": {},
     "output_type": "execute_result"
    }
   ],
   "source": [
    "csv_chunks = pd.read_csv(\"D:\\health-insurance-marketplace-release-2016-01-20-15-52-37\\health-insurance-marketplace\\BenefitsCostSharing.csv\",iterator=True,chunksize = 1000)\n",
    "rates = pd.concat(chunk for chunk in csv_chunks)\n",
    "infuse = rates['BenefitName'] == \"Infusion Therapy\"\n",
    "new_rate = rates[infuse]\n",
    "new_rate.head(n=5)\n"
   ]
  },
  {
   "cell_type": "markdown",
   "metadata": {},
   "source": [
    "Total rows having BenefitName value as \"Infusion Therapy\""
   ]
  },
  {
   "cell_type": "code",
   "execution_count": 187,
   "metadata": {
    "collapsed": false
   },
   "outputs": [
    {
     "data": {
      "text/plain": [
       "(65704, 33)"
      ]
     },
     "execution_count": 187,
     "metadata": {},
     "output_type": "execute_result"
    }
   ],
   "source": [
    "new_rate.shape"
   ]
  },
  {
   "cell_type": "code",
   "execution_count": 207,
   "metadata": {
    "collapsed": false
   },
   "outputs": [
    {
     "name": "stderr",
     "output_type": "stream",
     "text": [
      "C:\\Users\\Sunil\\Anaconda3\\lib\\site-packages\\ipykernel\\__main__.py:5: SettingWithCopyWarning: \n",
      "A value is trying to be set on a copy of a slice from a DataFrame.\n",
      "Try using .loc[row_indexer,col_indexer] = value instead\n",
      "\n",
      "See the caveats in the documentation: http://pandas.pydata.org/pandas-docs/stable/indexing.html#indexing-view-versus-copy\n",
      "C:\\Users\\Sunil\\Anaconda3\\lib\\site-packages\\ipykernel\\__main__.py:6: SettingWithCopyWarning: \n",
      "A value is trying to be set on a copy of a slice from a DataFrame.\n",
      "Try using .loc[row_indexer,col_indexer] = value instead\n",
      "\n",
      "See the caveats in the documentation: http://pandas.pydata.org/pandas-docs/stable/indexing.html#indexing-view-versus-copy\n"
     ]
    },
    {
     "data": {
      "text/plain": [
       "306                            No Charge\n",
       "368                            No Charge\n",
       "440                                   15\n",
       "513                                   15\n",
       "586                                    0\n",
       "659                                   15\n",
       "732                                   30\n",
       "805                                   30\n",
       "841                                   30\n",
       "930                                    0\n",
       "1003                                  30\n",
       "1076                                  30\n",
       "1149                                  30\n",
       "1243                                  15\n",
       "1316                                  15\n",
       "1389                                   0\n",
       "1462                                  15\n",
       "1535                                  30\n",
       "1608                                  30\n",
       "1681                                   0\n",
       "1754                                  30\n",
       "1827                                  30\n",
       "1900                                  30\n",
       "1973                                  30\n",
       "2046                                  40\n",
       "2118                                  40\n",
       "2190                                   0\n",
       "2262                                  40\n",
       "2334                                  40\n",
       "2406                                  40\n",
       "                      ...               \n",
       "36441                                  0\n",
       "36514    20 Coinsurance after deductible\n",
       "36634    10 Coinsurance after deductible\n",
       "36707    10 Coinsurance after deductible\n",
       "36771    20 Coinsurance after deductible\n",
       "36872    20 Coinsurance after deductible\n",
       "36921    20 Coinsurance after deductible\n",
       "36994                                  0\n",
       "37102    20 Coinsurance after deductible\n",
       "37163    10 Coinsurance after deductible\n",
       "37236    10 Coinsurance after deductible\n",
       "37300                                  0\n",
       "37345    20 Coinsurance after deductible\n",
       "37410                          No Charge\n",
       "37518    20 Coinsurance after deductible\n",
       "37585    20 Coinsurance after deductible\n",
       "37639                          No Charge\n",
       "37712                                  0\n",
       "37776                          No Charge\n",
       "37899                          No Charge\n",
       "37972                          No Charge\n",
       "37998                          No Charge\n",
       "38036                          No Charge\n",
       "38088                                  0\n",
       "38169                          No Charge\n",
       "38288                                  0\n",
       "38323                          No Charge\n",
       "38426                          No Charge\n",
       "38488                          No Charge\n",
       "38553                          No Charge\n",
       "Name: filtered_coin, dtype: object"
      ]
     },
     "execution_count": 207,
     "metadata": {},
     "output_type": "execute_result"
    }
   ],
   "source": [
    "import matplotlib.pyplot as plt\n",
    "%matplotlib inline\n",
    "coint1 ='CoinsInnTier1'\n",
    "coin = 'filtered_coin'\n",
    "new_rate[coint1] = new_rate[coint1].fillna(0)\n",
    "new_rate[coin] = new_rate[coint1].str.replace('%', '')\n",
    "\n",
    "new_rate[coin].head(n=500)\n",
    "\n"
   ]
  },
  {
   "cell_type": "code",
   "execution_count": 247,
   "metadata": {
    "collapsed": false
   },
   "outputs": [
    {
     "data": {
      "text/plain": [
       "(65704, 34)"
      ]
     },
     "execution_count": 247,
     "metadata": {},
     "output_type": "execute_result"
    }
   ],
   "source": [
    "new_rate.shape\n"
   ]
  },
  {
   "cell_type": "code",
   "execution_count": 226,
   "metadata": {
    "collapsed": false
   },
   "outputs": [],
   "source": [
    "d = []\n",
    "for i in range(0,65704):\n",
    "    if new_rate[coin].iloc[i] == \"50\" or new_rate[coin].iloc[i] == \"40\" or new_rate[coin].iloc[i] == \"30\" or new_rate[coin].iloc[i] == \"20\" or new_rate[coin].iloc[i] == \"10\":\n",
    "        d.append(new_rate[coin].iloc[i])\n",
    "    else:\n",
    "        d.append('0')\n",
    "\n",
    "        "
   ]
  },
  {
   "cell_type": "code",
   "execution_count": 228,
   "metadata": {
    "collapsed": false
   },
   "outputs": [
    {
     "name": "stderr",
     "output_type": "stream",
     "text": [
      "C:\\Users\\Sunil\\Anaconda3\\lib\\site-packages\\ipykernel\\__main__.py:1: SettingWithCopyWarning: \n",
      "A value is trying to be set on a copy of a slice from a DataFrame.\n",
      "Try using .loc[row_indexer,col_indexer] = value instead\n",
      "\n",
      "See the caveats in the documentation: http://pandas.pydata.org/pandas-docs/stable/indexing.html#indexing-view-versus-copy\n",
      "  if __name__ == '__main__':\n"
     ]
    }
   ],
   "source": [
    "new_rate['copay'] = d\n",
    "\n"
   ]
  },
  {
   "cell_type": "code",
   "execution_count": 243,
   "metadata": {
    "collapsed": false
   },
   "outputs": [
    {
     "data": {
      "text/html": [
       "<div>\n",
       "<table border=\"1\" class=\"dataframe\">\n",
       "  <thead>\n",
       "    <tr style=\"text-align: right;\">\n",
       "      <th></th>\n",
       "      <th>filtered_coin</th>\n",
       "    </tr>\n",
       "    <tr>\n",
       "      <th>copay</th>\n",
       "      <th></th>\n",
       "    </tr>\n",
       "  </thead>\n",
       "  <tbody>\n",
       "    <tr>\n",
       "      <th>0</th>\n",
       "      <td>62116</td>\n",
       "    </tr>\n",
       "    <tr>\n",
       "      <th>10</th>\n",
       "      <td>671</td>\n",
       "    </tr>\n",
       "    <tr>\n",
       "      <th>20</th>\n",
       "      <td>835</td>\n",
       "    </tr>\n",
       "    <tr>\n",
       "      <th>30</th>\n",
       "      <td>335</td>\n",
       "    </tr>\n",
       "    <tr>\n",
       "      <th>40</th>\n",
       "      <td>61</td>\n",
       "    </tr>\n",
       "    <tr>\n",
       "      <th>50</th>\n",
       "      <td>159</td>\n",
       "    </tr>\n",
       "  </tbody>\n",
       "</table>\n",
       "</div>"
      ],
      "text/plain": [
       "       filtered_coin\n",
       "copay               \n",
       "0              62116\n",
       "10               671\n",
       "20               835\n",
       "30               335\n",
       "40                61\n",
       "50               159"
      ]
     },
     "execution_count": 243,
     "metadata": {},
     "output_type": "execute_result"
    },
    {
     "name": "stdout",
     "output_type": "stream",
     "text": [
      "ERROR! Session/line number was not unique in database. History logging moved to new session 54\n"
     ]
    }
   ],
   "source": [
    "new_rate['copay'].astype(int)\n",
    "dist1 = new_rate[['copay','filtered_coin']]\n",
    "category_group1=dist1.groupby(['copay']).count()\n",
    "category_group1.head(n=10)\n",
    "\n",
    "\n"
   ]
  },
  {
   "cell_type": "markdown",
   "metadata": {},
   "source": [
    "### Distribution of copay percentage across all plans"
   ]
  },
  {
   "cell_type": "code",
   "execution_count": 248,
   "metadata": {
    "collapsed": false
   },
   "outputs": [
    {
     "data": {
      "text/plain": [
       "<matplotlib.text.Text at 0x143617d52e8>"
      ]
     },
     "execution_count": 248,
     "metadata": {},
     "output_type": "execute_result"
    },
    {
     "data": {
      "image/png": "[encoded data removed]",
      "text/plain": [
       "<matplotlib.figure.Figure at 0x143617cca90>"
      ]
     },
     "metadata": {},
     "output_type": "display_data"
    }
   ],
   "source": [
    "my_plot2 = category_group1.plot(kind='bar',stacked=False,title=\"Health Insurers with infusion pay opercentages\")\n",
    "my_plot2.set_xlabel(\"Percentage of Copay\")\n",
    "my_plot2.set_ylabel(\"No. of Plans\")"
   ]
  },
  {
   "cell_type": "markdown",
   "metadata": {},
   "source": [
    "So, there are a lot of plans that fall in the zero category. Those plans either have a 0% co-pay or just a flat fee for each infusion and therefore don’t have a copay. That’s problematic. we are just going to have to dump those plans out to get a better look at what a typical copay looks like."
   ]
  },
  {
   "cell_type": "markdown",
   "metadata": {},
   "source": [
    "Now we will just want to look at the plans that offer terrible coverage for infusions. It looks like the worst are those that make customers pay a 50% copay for infusions. we will create a subset for that."
   ]
  },
  {
   "cell_type": "code",
   "execution_count": 249,
   "metadata": {
    "collapsed": false
   },
   "outputs": [
    {
     "data": {
      "text/plain": [
       "(159, 34)"
      ]
     },
     "execution_count": 249,
     "metadata": {},
     "output_type": "execute_result"
    }
   ],
   "source": [
    "fifty_copay = new_rate[coin] == \"50\"\n",
    "highinf = new_rate[fifty_copay]\n",
    "\n",
    "highinf.shape"
   ]
  },
  {
   "cell_type": "markdown",
   "metadata": {},
   "source": [
    "159 plans fit the bill. That’s a lot. Maybe there has been some sort of trend over time. Hopefully those plans have become fewer since the ACA fully rolled out."
   ]
  },
  {
   "cell_type": "code",
   "execution_count": 197,
   "metadata": {
    "collapsed": false
   },
   "outputs": [
    {
     "data": {
      "text/plain": [
       "BusinessYear\n",
       "2014    76\n",
       "2015    53\n",
       "2016    30\n",
       "dtype: int64"
      ]
     },
     "execution_count": 197,
     "metadata": {},
     "output_type": "execute_result"
    }
   ],
   "source": [
    "state_group = highinf.groupby('StateCode')\n",
    "state_group.size()\n",
    "year_group = highinf.groupby('BusinessYear')\n",
    "year_group.size()\n",
    "\n",
    "\n"
   ]
  },
  {
   "cell_type": "code",
   "execution_count": 250,
   "metadata": {
    "collapsed": false
   },
   "outputs": [
    {
     "data": {
      "text/html": [
       "<div>\n",
       "<table border=\"1\" class=\"dataframe\">\n",
       "  <thead>\n",
       "    <tr style=\"text-align: right;\">\n",
       "      <th></th>\n",
       "      <th></th>\n",
       "      <th>filtered_coin</th>\n",
       "    </tr>\n",
       "    <tr>\n",
       "      <th>BusinessYear</th>\n",
       "      <th>StateCode</th>\n",
       "      <th></th>\n",
       "    </tr>\n",
       "  </thead>\n",
       "  <tbody>\n",
       "    <tr>\n",
       "      <th rowspan=\"7\" valign=\"top\">2014</th>\n",
       "      <th>AK</th>\n",
       "      <td>8</td>\n",
       "    </tr>\n",
       "    <tr>\n",
       "      <th>AZ</th>\n",
       "      <td>30</td>\n",
       "    </tr>\n",
       "    <tr>\n",
       "      <th>IA</th>\n",
       "      <td>4</td>\n",
       "    </tr>\n",
       "    <tr>\n",
       "      <th>ID</th>\n",
       "      <td>12</td>\n",
       "    </tr>\n",
       "    <tr>\n",
       "      <th>PA</th>\n",
       "      <td>10</td>\n",
       "    </tr>\n",
       "    <tr>\n",
       "      <th>TX</th>\n",
       "      <td>8</td>\n",
       "    </tr>\n",
       "    <tr>\n",
       "      <th>WI</th>\n",
       "      <td>4</td>\n",
       "    </tr>\n",
       "    <tr>\n",
       "      <th rowspan=\"6\" valign=\"top\">2015</th>\n",
       "      <th>IA</th>\n",
       "      <td>2</td>\n",
       "    </tr>\n",
       "    <tr>\n",
       "      <th>NJ</th>\n",
       "      <td>6</td>\n",
       "    </tr>\n",
       "    <tr>\n",
       "      <th>PA</th>\n",
       "      <td>31</td>\n",
       "    </tr>\n",
       "    <tr>\n",
       "      <th>SD</th>\n",
       "      <td>9</td>\n",
       "    </tr>\n",
       "    <tr>\n",
       "      <th>TX</th>\n",
       "      <td>3</td>\n",
       "    </tr>\n",
       "    <tr>\n",
       "      <th>WI</th>\n",
       "      <td>2</td>\n",
       "    </tr>\n",
       "    <tr>\n",
       "      <th rowspan=\"3\" valign=\"top\">2016</th>\n",
       "      <th>NJ</th>\n",
       "      <td>7</td>\n",
       "    </tr>\n",
       "    <tr>\n",
       "      <th>PA</th>\n",
       "      <td>20</td>\n",
       "    </tr>\n",
       "    <tr>\n",
       "      <th>TX</th>\n",
       "      <td>3</td>\n",
       "    </tr>\n",
       "  </tbody>\n",
       "</table>\n",
       "</div>"
      ],
      "text/plain": [
       "                        filtered_coin\n",
       "BusinessYear StateCode               \n",
       "2014         AK                     8\n",
       "             AZ                    30\n",
       "             IA                     4\n",
       "             ID                    12\n",
       "             PA                    10\n",
       "             TX                     8\n",
       "             WI                     4\n",
       "2015         IA                     2\n",
       "             NJ                     6\n",
       "             PA                    31\n",
       "             SD                     9\n",
       "             TX                     3\n",
       "             WI                     2\n",
       "2016         NJ                     7\n",
       "             PA                    20\n",
       "             TX                     3"
      ]
     },
     "execution_count": 250,
     "metadata": {},
     "output_type": "execute_result"
    }
   ],
   "source": [
    "plothighinf = highinf[['filtered_coin','BusinessYear','StateCode']]\n",
    "category_group=plothighinf.groupby(['BusinessYear','StateCode']).count()\n",
    "category_group\n"
   ]
  },
  {
   "cell_type": "code",
   "execution_count": 185,
   "metadata": {
    "collapsed": false
   },
   "outputs": [
    {
     "data": {
      "text/plain": [
       "<matplotlib.text.Text at 0x14310d56e10>"
      ]
     },
     "execution_count": 185,
     "metadata": {},
     "output_type": "execute_result"
    },
    {
     "data": {
      "image/png": "[encoded data removed]",
      "text/plain": [
       "<matplotlib.figure.Figure at 0x142d7462278>"
      ]
     },
     "metadata": {},
     "output_type": "display_data"
    }
   ],
   "source": [
    "my_plot = category_group.unstack().plot(kind='bar',stacked=True,title=\"Health Insurers with infusion pay of 50%\")\n",
    "my_plot.set_xlabel(\"Business Year\")\n",
    "my_plot.set_ylabel(\"No. of Plans\")"
   ]
  },
  {
   "cell_type": "markdown",
   "metadata": {},
   "source": [
    "The trend is good. The total number of plans that require a 50% copay has dropped pretty significantly. There were 76 in 2014, 53 in 2015, and 30 in 2016. Looks like Pennsylvania is a bad state to be in if you need chemotherapy. Many other states have completed exited the dataset in 2016 though. Arizon was a huge share in 2014 and now they have no plans with a 50% co-pay."
   ]
  },
  {
   "cell_type": "code",
   "execution_count": null,
   "metadata": {
    "collapsed": true
   },
   "outputs": [],
   "source": []
  }
 ],
 "metadata": {
  "kernelspec": {
   "display_name": "Python [Root]",
   "language": "python",
   "name": "Python [Root]"
  },
  "language_info": {
   "codemirror_mode": {
    "name": "ipython",
    "version": 3
   },
   "file_extension": ".py",
   "mimetype": "text/x-python",
   "name": "python",
   "nbconvert_exporter": "python",
   "pygments_lexer": "ipython3",
   "version": "3.5.2"
  }
 },
 "nbformat": 4,
 "nbformat_minor": 0
}
